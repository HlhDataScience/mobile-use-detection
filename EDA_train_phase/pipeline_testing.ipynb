{
 "cells": [
  {
   "cell_type": "code",
   "id": "initial_id",
   "metadata": {
    "collapsed": true,
    "ExecuteTime": {
     "end_time": "2024-11-21T14:47:38.421748Z",
     "start_time": "2024-11-21T14:47:37.466860Z"
    }
   },
   "source": "from transformation_pipeline import *\n",
   "outputs": [
    {
     "name": "stderr",
     "output_type": "stream",
     "text": [
      "2024-11-21 15:47:38 - root - INFO - Logging system initialized.\n",
      "/home/tensorboard/PycharmProjects/mobile_usage_detection/src/transformation_pipeline.py:46: UserWarning: \n",
      "The version_base parameter is not specified.\n",
      "Please specify a compatability version level, or None.\n",
      "Will assume defaults for version 1.1\n",
      "  initialize(config_path=\"./conf/transformation_config/\")\n",
      "2024-11-21 15:47:38 - hydra.core.utils - DEBUG - Setting JobRuntime:name=UNKNOWN_NAME\n",
      "2024-11-21 15:47:38 - hydra.core.utils - DEBUG - Setting JobRuntime:name=transformation_pipeline\n"
     ]
    }
   ],
   "execution_count": 1
  },
  {
   "metadata": {},
   "cell_type": "markdown",
   "source": "",
   "id": "b931b9f35b2b8358"
  },
  {
   "metadata": {
    "ExecuteTime": {
     "end_time": "2024-11-21T14:47:40.684303Z",
     "start_time": "2024-11-21T14:47:40.667048Z"
    }
   },
   "cell_type": "code",
   "source": "testing_object = LazyTransformationPipeline() #Because we did not construct the paths correctly we are having 5 validation errors- Therefore the system works ",
   "id": "3ae3a17942577a48",
   "outputs": [
    {
     "name": "stderr",
     "output_type": "stream",
     "text": [
      "2024-11-21 15:47:40 - root - INFO - Valid transformation configuration found.\n",
      "2024-11-21 15:47:40 - pandera.validation_depth - DEBUG - Skipping execution of check check_column_values_are_unique since validation depth is set to SCHEMA_ONLY\n",
      "2024-11-21 15:47:40 - pandera.validation_depth - DEBUG - Skipping execution of check check_nullable since validation depth is set to SCHEMA_ONLY\n",
      "2024-11-21 15:47:40 - pandera.validation_depth - DEBUG - Skipping execution of check check_unique since validation depth is set to SCHEMA_ONLY\n",
      "2024-11-21 15:47:40 - pandera.validation_depth - DEBUG - Skipping execution of check run_checks since validation depth is set to SCHEMA_ONLY\n",
      "2024-11-21 15:47:40 - pandera.validation_depth - DEBUG - Skipping execution of check check_nullable since validation depth is set to SCHEMA_ONLY\n",
      "2024-11-21 15:47:40 - pandera.validation_depth - DEBUG - Skipping execution of check check_unique since validation depth is set to SCHEMA_ONLY\n",
      "2024-11-21 15:47:40 - pandera.validation_depth - DEBUG - Skipping execution of check run_checks since validation depth is set to SCHEMA_ONLY\n",
      "2024-11-21 15:47:40 - pandera.validation_depth - DEBUG - Skipping execution of check check_nullable since validation depth is set to SCHEMA_ONLY\n",
      "2024-11-21 15:47:40 - pandera.validation_depth - DEBUG - Skipping execution of check check_unique since validation depth is set to SCHEMA_ONLY\n",
      "2024-11-21 15:47:40 - pandera.validation_depth - DEBUG - Skipping execution of check run_checks since validation depth is set to SCHEMA_ONLY\n",
      "2024-11-21 15:47:40 - pandera.validation_depth - DEBUG - Skipping execution of check check_nullable since validation depth is set to SCHEMA_ONLY\n",
      "2024-11-21 15:47:40 - pandera.validation_depth - DEBUG - Skipping execution of check check_unique since validation depth is set to SCHEMA_ONLY\n",
      "2024-11-21 15:47:40 - pandera.validation_depth - DEBUG - Skipping execution of check run_checks since validation depth is set to SCHEMA_ONLY\n",
      "2024-11-21 15:47:40 - pandera.validation_depth - DEBUG - Skipping execution of check check_nullable since validation depth is set to SCHEMA_ONLY\n",
      "2024-11-21 15:47:40 - pandera.validation_depth - DEBUG - Skipping execution of check check_unique since validation depth is set to SCHEMA_ONLY\n",
      "2024-11-21 15:47:40 - pandera.validation_depth - DEBUG - Skipping execution of check run_checks since validation depth is set to SCHEMA_ONLY\n",
      "2024-11-21 15:47:40 - pandera.validation_depth - DEBUG - Skipping execution of check check_nullable since validation depth is set to SCHEMA_ONLY\n",
      "2024-11-21 15:47:40 - pandera.validation_depth - DEBUG - Skipping execution of check check_unique since validation depth is set to SCHEMA_ONLY\n",
      "2024-11-21 15:47:40 - pandera.validation_depth - DEBUG - Skipping execution of check run_checks since validation depth is set to SCHEMA_ONLY\n",
      "2024-11-21 15:47:40 - pandera.validation_depth - DEBUG - Skipping execution of check check_nullable since validation depth is set to SCHEMA_ONLY\n",
      "2024-11-21 15:47:40 - pandera.validation_depth - DEBUG - Skipping execution of check check_unique since validation depth is set to SCHEMA_ONLY\n",
      "2024-11-21 15:47:40 - pandera.validation_depth - DEBUG - Skipping execution of check run_checks since validation depth is set to SCHEMA_ONLY\n",
      "2024-11-21 15:47:40 - pandera.validation_depth - DEBUG - Skipping execution of check check_nullable since validation depth is set to SCHEMA_ONLY\n",
      "2024-11-21 15:47:40 - pandera.validation_depth - DEBUG - Skipping execution of check check_unique since validation depth is set to SCHEMA_ONLY\n",
      "2024-11-21 15:47:40 - pandera.validation_depth - DEBUG - Skipping execution of check run_checks since validation depth is set to SCHEMA_ONLY\n",
      "2024-11-21 15:47:40 - pandera.validation_depth - DEBUG - Skipping execution of check check_nullable since validation depth is set to SCHEMA_ONLY\n",
      "2024-11-21 15:47:40 - pandera.validation_depth - DEBUG - Skipping execution of check check_unique since validation depth is set to SCHEMA_ONLY\n",
      "2024-11-21 15:47:40 - pandera.validation_depth - DEBUG - Skipping execution of check run_checks since validation depth is set to SCHEMA_ONLY\n",
      "2024-11-21 15:47:40 - pandera.validation_depth - DEBUG - Skipping execution of check check_nullable since validation depth is set to SCHEMA_ONLY\n",
      "2024-11-21 15:47:40 - pandera.validation_depth - DEBUG - Skipping execution of check check_unique since validation depth is set to SCHEMA_ONLY\n",
      "2024-11-21 15:47:40 - pandera.validation_depth - DEBUG - Skipping execution of check run_checks since validation depth is set to SCHEMA_ONLY\n",
      "2024-11-21 15:47:40 - pandera.validation_depth - DEBUG - Skipping execution of check check_nullable since validation depth is set to SCHEMA_ONLY\n",
      "2024-11-21 15:47:40 - pandera.validation_depth - DEBUG - Skipping execution of check check_unique since validation depth is set to SCHEMA_ONLY\n",
      "2024-11-21 15:47:40 - pandera.validation_depth - DEBUG - Skipping execution of check run_checks since validation depth is set to SCHEMA_ONLY\n",
      "2024-11-21 15:47:40 - pandera.validation_depth - DEBUG - Skipping execution of check run_checks since validation depth is set to SCHEMA_ONLY\n",
      "2024-11-21 15:47:40 - root - INFO - DataFrame Validation is correct\n"
     ]
    }
   ],
   "execution_count": 2
  },
  {
   "metadata": {},
   "cell_type": "markdown",
   "source": [
    "Because we did not construct the paths correctly we are having 5 validation errors- Therefore the system works \n",
    "Also, in order to accomodate the parameter dict for the CV search methods, we need to set the validation to have List."
   ],
   "id": "25dcc0be7b751d5d"
  },
  {
   "metadata": {},
   "cell_type": "markdown",
   "source": "Both models work perfectly for validation of the transformation config and the validation of the dataframe schema",
   "id": "49c8ef3090202752"
  },
  {
   "metadata": {},
   "cell_type": "code",
   "outputs": [],
   "execution_count": null,
   "source": "",
   "id": "7c61c6bd9cae8a2"
  }
 ],
 "metadata": {
  "kernelspec": {
   "display_name": "Python 3",
   "language": "python",
   "name": "python3"
  },
  "language_info": {
   "codemirror_mode": {
    "name": "ipython",
    "version": 2
   },
   "file_extension": ".py",
   "mimetype": "text/x-python",
   "name": "python",
   "nbconvert_exporter": "python",
   "pygments_lexer": "ipython2",
   "version": "2.7.6"
  }
 },
 "nbformat": 4,
 "nbformat_minor": 5
}
